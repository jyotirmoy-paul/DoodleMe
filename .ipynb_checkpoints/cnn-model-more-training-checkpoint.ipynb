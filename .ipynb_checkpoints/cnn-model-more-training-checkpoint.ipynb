{
 "cells": [
  {
   "cell_type": "markdown",
   "metadata": {},
   "source": [
    "# Training a Convolutional Neural Network to distinguish 88 different category of doodles"
   ]
  },
  {
   "cell_type": "markdown",
   "metadata": {},
   "source": [
    "### Training the previously trained model on 5000 new test images from each category and testing on 500 images from each category"
   ]
  },
  {
   "cell_type": "code",
   "execution_count": 3,
   "metadata": {},
   "outputs": [],
   "source": [
    "from keras.models import load_model\n",
    "classifier = load_model('model-68.h5')"
   ]
  },
  {
   "cell_type": "code",
   "execution_count": 4,
   "metadata": {},
   "outputs": [
    {
     "name": "stdout",
     "output_type": "stream",
     "text": [
      "Found 440000 images belonging to 88 classes.\n",
      "Found 44000 images belonging to 88 classes.\n"
     ]
    }
   ],
   "source": [
    "# image preprocessing before feeding into the CNN\n",
    "from keras.preprocessing.image import ImageDataGenerator\n",
    "\n",
    "data_generator = ImageDataGenerator(rescale=1./255, rotation_range=0.05)\n",
    "\n",
    "# training data set\n",
    "train_set = data_generator.flow_from_directory(\n",
    "        'training-5000/',\n",
    "        batch_size=128,\n",
    "        target_size=(28,28), color_mode='grayscale')\n",
    "\n",
    "# testing/validation data set\n",
    "test_set = data_generator.flow_from_directory(\n",
    "        'testing-500/',\n",
    "        batch_size=64,\n",
    "        target_size=(28,28), color_mode='grayscale')"
   ]
  },
  {
   "cell_type": "code",
   "execution_count": 5,
   "metadata": {},
   "outputs": [
    {
     "name": "stdout",
     "output_type": "stream",
     "text": [
      "Epoch 1/10\n",
      "3437/3437 [==============================] - 1048s 305ms/step - loss: 1.5275 - acc: 0.6136 - val_loss: 1.1533 - val_acc: 0.7100\n",
      "Epoch 2/10\n",
      "3437/3437 [==============================] - 510s 148ms/step - loss: 1.4709 - acc: 0.6264 - val_loss: 1.1205 - val_acc: 0.7157\n",
      "Epoch 3/10\n",
      "3437/3437 [==============================] - 506s 147ms/step - loss: 1.4367 - acc: 0.6343 - val_loss: 1.0936 - val_acc: 0.7221\n",
      "Epoch 4/10\n",
      "3437/3437 [==============================] - 506s 147ms/step - loss: 1.4133 - acc: 0.6397 - val_loss: 1.0848 - val_acc: 0.7246\n",
      "Epoch 5/10\n",
      "3437/3437 [==============================] - 519s 151ms/step - loss: 1.3904 - acc: 0.6450 - val_loss: 1.0713 - val_acc: 0.7272\n",
      "Epoch 6/10\n",
      "3437/3437 [==============================] - 509s 148ms/step - loss: 1.3761 - acc: 0.6482 - val_loss: 1.0784 - val_acc: 0.7261\n",
      "Epoch 7/10\n",
      "3437/3437 [==============================] - 507s 148ms/step - loss: 1.3647 - acc: 0.6508 - val_loss: 1.0661 - val_acc: 0.7288\n",
      "Epoch 8/10\n",
      "3437/3437 [==============================] - 507s 147ms/step - loss: 1.3553 - acc: 0.6533 - val_loss: 1.0459 - val_acc: 0.7329\n",
      "Epoch 9/10\n",
      "3437/3437 [==============================] - 547s 159ms/step - loss: 1.3433 - acc: 0.6566 - val_loss: 1.0461 - val_acc: 0.7332\n",
      "Epoch 10/10\n",
      "3437/3437 [==============================] - 512s 149ms/step - loss: 1.3332 - acc: 0.6587 - val_loss: 1.0503 - val_acc: 0.7341\n"
     ]
    }
   ],
   "source": [
    "# finally fitting the data and training the CNN\n",
    "history = classifier.fit_generator(\n",
    "        epochs=10,\n",
    "        initial_epoch=0,\n",
    "        generator=train_set,\n",
    "        steps_per_epoch=3437,\n",
    "        validation_data=test_set,\n",
    "        validation_steps=687,\n",
    "        use_multiprocessing=True)"
   ]
  },
  {
   "cell_type": "markdown",
   "metadata": {},
   "source": [
    "### Now using a test set of 1000 images from each 88 categories"
   ]
  },
  {
   "cell_type": "code",
   "execution_count": null,
   "metadata": {},
   "outputs": [],
   "source": []
  }
 ],
 "metadata": {
  "kernelspec": {
   "display_name": "Python 3",
   "language": "python",
   "name": "python3"
  },
  "language_info": {
   "codemirror_mode": {
    "name": "ipython",
    "version": 3
   },
   "file_extension": ".py",
   "mimetype": "text/x-python",
   "name": "python",
   "nbconvert_exporter": "python",
   "pygments_lexer": "ipython3",
   "version": "3.7.3"
  }
 },
 "nbformat": 4,
 "nbformat_minor": 2
}
